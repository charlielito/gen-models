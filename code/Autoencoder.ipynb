{
 "cells": [
  {
   "cell_type": "code",
   "execution_count": 1,
   "metadata": {},
   "outputs": [],
   "source": [
    "import tensorflow as tf\n",
    "import numpy as np\n",
    "import util\n",
    "import matplotlib.pyplot as plt\n",
    "import io\n",
    "from PIL import Image\n",
    "\n",
    "from callbacks.AutoEncoderSummary import AutoEncoderSummary"
   ]
  },
  {
   "cell_type": "code",
   "execution_count": 2,
   "metadata": {},
   "outputs": [],
   "source": [
    "Xtrain, Ytrain, Xtest, Ytest = util.getKaggleMNIST()"
   ]
  },
  {
   "cell_type": "code",
   "execution_count": 3,
   "metadata": {},
   "outputs": [
    {
     "data": {
      "text/plain": [
       "(41000, 784)"
      ]
     },
     "execution_count": 3,
     "metadata": {},
     "output_type": "execute_result"
    }
   ],
   "source": [
    "Xtrain.shape"
   ]
  },
  {
   "cell_type": "code",
   "execution_count": 4,
   "metadata": {},
   "outputs": [
    {
     "data": {
      "text/plain": [
       "1.0"
      ]
     },
     "execution_count": 4,
     "metadata": {},
     "output_type": "execute_result"
    }
   ],
   "source": [
    "np.max(Xtrain)"
   ]
  },
  {
   "cell_type": "code",
   "execution_count": 5,
   "metadata": {},
   "outputs": [],
   "source": [
    "def build_model(input_shape, hidden_dim):\n",
    "    inputs = tf.keras.layers.Input(shape=input_shape)\n",
    "\n",
    "    x = tf.keras.layers.Dense(hidden_dim, activation=\"relu\")(inputs)\n",
    "    x = tf.keras.layers.Dense(input_shape[0], activation=\"sigmoid\")(x)\n",
    "\n",
    "    return tf.keras.models.Model(inputs=inputs, outputs=x)"
   ]
  },
  {
   "cell_type": "code",
   "execution_count": 6,
   "metadata": {},
   "outputs": [],
   "source": [
    "model = build_model((784,), 2)"
   ]
  },
  {
   "cell_type": "code",
   "execution_count": 7,
   "metadata": {},
   "outputs": [
    {
     "name": "stdout",
     "output_type": "stream",
     "text": [
      "_________________________________________________________________\n",
      "Layer (type)                 Output Shape              Param #   \n",
      "=================================================================\n",
      "input_1 (InputLayer)         (None, 784)               0         \n",
      "_________________________________________________________________\n",
      "dense (Dense)                (None, 2)                 1570      \n",
      "_________________________________________________________________\n",
      "dense_1 (Dense)              (None, 784)               2352      \n",
      "=================================================================\n",
      "Total params: 3,922\n",
      "Trainable params: 3,922\n",
      "Non-trainable params: 0\n",
      "_________________________________________________________________\n"
     ]
    }
   ],
   "source": [
    "model.summary()"
   ]
  },
  {
   "cell_type": "code",
   "execution_count": 9,
   "metadata": {},
   "outputs": [],
   "source": [
    "model.compile(\n",
    "    optimizer=tf.keras.optimizers.Adam(0.001),\n",
    "    loss=\"mse\",\n",
    ")"
   ]
  },
  {
   "cell_type": "code",
   "execution_count": 10,
   "metadata": {},
   "outputs": [],
   "source": [
    "summaries_dir = \"summaries/autoencoder0_mnist\"\n",
    "tf.gfile.DeleteRecursively(summaries_dir) if tf.gfile.Exists(summaries_dir) else None\n",
    "tensorboard_callback = tf.keras.callbacks.TensorBoard(log_dir=summaries_dir)"
   ]
  },
  {
   "cell_type": "code",
   "execution_count": 11,
   "metadata": {},
   "outputs": [],
   "source": [
    "data_to_plot=[]\n",
    "index = np.random.choice(range(Xtrain.shape[0]), 10)\n",
    "data_train = Xtrain[index] \n",
    "index = np.random.choice(range(Xtest.shape[0]), 10)\n",
    "data_test = Xtest[index]\n",
    "data_to_plot.append((data_train, \"train\"))\n",
    "data_to_plot.append((data_test, \"valid\"))"
   ]
  },
  {
   "cell_type": "code",
   "execution_count": 12,
   "metadata": {},
   "outputs": [
    {
     "name": "stdout",
     "output_type": "stream",
     "text": [
      "Train on 41000 samples, validate on 1000 samples\n",
      "Epoch 1/10\n",
      "41000/41000 [==============================] - 8s 192us/step - loss: 0.0733 - val_loss: 0.0618\n",
      "Epoch 2/10\n",
      "41000/41000 [==============================] - 5s 133us/step - loss: 0.0606 - val_loss: 0.0596\n",
      "Epoch 3/10\n",
      "41000/41000 [==============================] - 6s 134us/step - loss: 0.0589 - val_loss: 0.0584\n",
      "Epoch 4/10\n",
      "41000/41000 [==============================] - 5s 131us/step - loss: 0.0580 - val_loss: 0.0578\n",
      "Epoch 5/10\n",
      "41000/41000 [==============================] - 6s 135us/step - loss: 0.0575 - val_loss: 0.0576\n",
      "Epoch 6/10\n",
      "41000/41000 [==============================] - 6s 136us/step - loss: 0.0572 - val_loss: 0.0573\n",
      "Epoch 7/10\n",
      "41000/41000 [==============================] - 6s 135us/step - loss: 0.0570 - val_loss: 0.0570\n",
      "Epoch 8/10\n",
      "41000/41000 [==============================] - 5s 130us/step - loss: 0.0568 - val_loss: 0.0570\n",
      "Epoch 9/10\n",
      "41000/41000 [==============================] - 5s 127us/step - loss: 0.0567 - val_loss: 0.0568\n",
      "Epoch 10/10\n",
      "41000/41000 [==============================] - 5s 134us/step - loss: 0.0566 - val_loss: 0.0567\n"
     ]
    },
    {
     "data": {
      "text/plain": [
       "<tensorflow.python.keras.callbacks.History at 0x7fe3f7169240>"
      ]
     },
     "execution_count": 12,
     "metadata": {},
     "output_type": "execute_result"
    }
   ],
   "source": [
    "model.fit(\n",
    "    x=Xtrain,\n",
    "    y=Xtrain,\n",
    "    batch_size=32,\n",
    "    epochs=10,\n",
    "    verbose=1,\n",
    "    shuffle=True,\n",
    "    validation_data=(Xtest, Xtest),\n",
    "    callbacks=[\n",
    "        tensorboard_callback,\n",
    "        AutoEncoderSummary(\n",
    "            tensorboard_callback,\n",
    "            data_to_plot,\n",
    "            update_freq=1,\n",
    "        )\n",
    "    ]\n",
    ")"
   ]
  },
  {
   "cell_type": "code",
   "execution_count": 13,
   "metadata": {},
   "outputs": [
    {
     "data": {
      "image/png": "[encoded data removed]",
      "text/plain": [
       "<Figure size 432x288 with 2 Axes>"
      ]
     },
     "metadata": {},
     "output_type": "display_data"
    },
    {
     "data": {
      "image/png": "[encoded data removed]",
      "text/plain": [
       "<Figure size 432x288 with 2 Axes>"
      ]
     },
     "metadata": {},
     "output_type": "display_data"
    },
    {
     "data": {
      "image/png": "[encoded data removed]",
      "text/plain": [
       "<Figure size 432x288 with 2 Axes>"
      ]
     },
     "metadata": {},
     "output_type": "display_data"
    },
    {
     "data": {
      "image/png": "[encoded data removed]",
      "text/plain": [
       "<Figure size 432x288 with 2 Axes>"
      ]
     },
     "metadata": {},
     "output_type": "display_data"
    },
    {
     "data": {
      "image/png": "[encoded data removed]",
      "text/plain": [
       "<Figure size 432x288 with 2 Axes>"
      ]
     },
     "metadata": {},
     "output_type": "display_data"
    },
    {
     "data": {
      "image/png": "[encoded data removed]",
      "text/plain": [
       "<Figure size 432x288 with 2 Axes>"
      ]
     },
     "metadata": {},
     "output_type": "display_data"
    },
    {
     "data": {
      "image/png": "[encoded data removed]",
      "text/plain": [
       "<Figure size 432x288 with 2 Axes>"
      ]
     },
     "metadata": {},
     "output_type": "display_data"
    },
    {
     "data": {
      "image/png": "[encoded data removed]",
      "text/plain": [
       "<Figure size 432x288 with 2 Axes>"
      ]
     },
     "metadata": {},
     "output_type": "display_data"
    },
    {
     "data": {
      "image/png": "[encoded data removed]",
      "text/plain": [
       "<Figure size 432x288 with 2 Axes>"
      ]
     },
     "metadata": {},
     "output_type": "display_data"
    },
    {
     "data": {
      "image/png": "[encoded data removed]",
      "text/plain": [
       "<Figure size 432x288 with 2 Axes>"
      ]
     },
     "metadata": {},
     "output_type": "display_data"
    }
   ],
   "source": [
    "samples = Xtrain.shape[0]\n",
    "for i in range(10):\n",
    "    index = np.random.randint(samples)\n",
    "    sample = Xtrain[index]\n",
    "    gen = model.predict(sample[np.newaxis])[0]\n",
    "    plt.subplot(1,2,1, title=\"original\")\n",
    "    plt.xticks([])\n",
    "    plt.yticks([])\n",
    "    plt.imshow(sample.reshape(28,28), cmap=\"gray\")\n",
    "    plt.subplot(1,2,2, title=\"autoencoder\")\n",
    "    plt.imshow(gen.reshape(28,28), cmap=\"gray\")\n",
    "    plt.xticks([])\n",
    "    plt.yticks([])\n",
    "    plt.show()\n",
    "    "
   ]
  },
  {
   "cell_type": "code",
   "execution_count": null,
   "metadata": {},
   "outputs": [],
   "source": []
  }
 ],
 "metadata": {
  "kernelspec": {
   "display_name": "Python 3",
   "language": "python",
   "name": "python3"
  },
  "language_info": {
   "codemirror_mode": {
    "name": "ipython",
    "version": 3
   },
   "file_extension": ".py",
   "mimetype": "text/x-python",
   "name": "python",
   "nbconvert_exporter": "python",
   "pygments_lexer": "ipython3",
   "version": "3.5.2"
  }
 },
 "nbformat": 4,
 "nbformat_minor": 2
}
