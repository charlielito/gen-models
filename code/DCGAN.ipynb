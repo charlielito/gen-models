{
 "cells": [
  {
   "cell_type": "code",
   "execution_count": 1,
   "metadata": {},
   "outputs": [],
   "source": [
    "import tensorflow as tf\n",
    "import numpy as np\n",
    "import util\n",
    "import matplotlib.pyplot as plt\n",
    "import io\n",
    "from PIL import Image\n",
    "import os\n",
    "import cytoolz as cz\n",
    "import sys\n",
    "from tqdm import tqdm_notebook as tqdm\n",
    "\n",
    "\n",
    "from callbacks.GanSummary import GanSummary, GanSummary2\n",
    "from callbacks import Callbacks"
   ]
  },
  {
   "cell_type": "code",
   "execution_count": 2,
   "metadata": {},
   "outputs": [],
   "source": [
    "x_train, y_train, x_test, y_test = util.getKaggleMNIST()"
   ]
  },
  {
   "cell_type": "code",
   "execution_count": 3,
   "metadata": {},
   "outputs": [],
   "source": [
    "def build_discriminator(input_shape):\n",
    "    net = tf.keras.Sequential([\n",
    "        tf.keras.layers.Conv2D(2, (5, 5), \n",
    "                               strides=(2, 2), padding='same',\n",
    "                               activation=tf.nn.leaky_relu,\n",
    "                               input_shape=input_shape),\n",
    "        tf.keras.layers.Dropout(0.3),\n",
    "\n",
    "        tf.keras.layers.Conv2D(64, (5, 5), strides=(2, 2), padding='same'),\n",
    "        tf.keras.layers.BatchNormalization(),\n",
    "        tf.keras.layers.LeakyReLU(),\n",
    "        tf.keras.layers.Dropout(0.3),\n",
    "\n",
    "        tf.keras.layers.Flatten(),\n",
    "        tf.keras.layers.Dense(1024),\n",
    "        tf.keras.layers.BatchNormalization(),\n",
    "        tf.keras.layers.LeakyReLU(),\n",
    "        tf.keras.layers.Dense(1, activation='sigmoid')\n",
    "    ], name='discriminator')\n",
    "    return net"
   ]
  },
  {
   "cell_type": "code",
   "execution_count": 4,
   "metadata": {},
   "outputs": [
    {
     "name": "stdout",
     "output_type": "stream",
     "text": [
      "_________________________________________________________________\n",
      "Layer (type)                 Output Shape              Param #   \n",
      "=================================================================\n",
      "conv2d (Conv2D)              (None, 14, 14, 2)         52        \n",
      "_________________________________________________________________\n",
      "dropout (Dropout)            (None, 14, 14, 2)         0         \n",
      "_________________________________________________________________\n",
      "conv2d_1 (Conv2D)            (None, 7, 7, 64)          3264      \n",
      "_________________________________________________________________\n",
      "batch_normalization (BatchNo (None, 7, 7, 64)          256       \n",
      "_________________________________________________________________\n",
      "leaky_re_lu (LeakyReLU)      (None, 7, 7, 64)          0         \n",
      "_________________________________________________________________\n",
      "dropout_1 (Dropout)          (None, 7, 7, 64)          0         \n",
      "_________________________________________________________________\n",
      "flatten (Flatten)            (None, 3136)              0         \n",
      "_________________________________________________________________\n",
      "dense (Dense)                (None, 1024)              3212288   \n",
      "_________________________________________________________________\n",
      "batch_normalization_1 (Batch (None, 1024)              4096      \n",
      "_________________________________________________________________\n",
      "leaky_re_lu_1 (LeakyReLU)    (None, 1024)              0         \n",
      "_________________________________________________________________\n",
      "dense_1 (Dense)              (None, 1)                 1025      \n",
      "=================================================================\n",
      "Total params: 3,220,981\n",
      "Trainable params: 3,218,805\n",
      "Non-trainable params: 2,176\n",
      "_________________________________________________________________\n"
     ]
    }
   ],
   "source": [
    "discriminator = build_discriminator((28,28,1,))\n",
    "discriminator.summary()"
   ]
  },
  {
   "cell_type": "code",
   "execution_count": null,
   "metadata": {},
   "outputs": [],
   "source": [
    "def build_generator(input_shape, output_activation=\"sigmoid\"):\n",
    "    net = tf.keras.Sequential([\n",
    "        tf.keras.layers.Dense(1024, activation=tf.nn.leaky_relu,\n",
    "                               input_shape=input_shape),\n",
    "        tf.keras.layers.Dense(7*7*128, activation=tf.nn.leaky_relu),\n",
    "        tf.keras.layers.Reshape((7,7, 128)),\n",
    "\n",
    "        tf.keras.layers.Conv2DTranspose(128, (5, 5), strides=(2, 2), padding='same', use_bias=True),\n",
    "        tf.keras.layers.BatchNormalization(),\n",
    "        tf.keras.layers.LeakyReLU(),\n",
    "\n",
    "        tf.keras.layers.Conv2DTranspose(1, (5, 5), strides=(2, 2), padding='same', use_bias=True,\n",
    "                                       activation=output_activation),\n",
    "    ], name='generator')\n",
    "    return net"
   ]
  },
  {
   "cell_type": "code",
   "execution_count": null,
   "metadata": {},
   "outputs": [],
   "source": [
    "epochs=150\n",
    "batch_size=32\n",
    "plot_data=10\n",
    "latent_dim = 100\n",
    "data_length = x_train.shape[0]\n",
    "learning_rate = 0.0001"
   ]
  },
  {
   "cell_type": "code",
   "execution_count": null,
   "metadata": {},
   "outputs": [
    {
     "name": "stdout",
     "output_type": "stream",
     "text": [
      "_________________________________________________________________\n",
      "Layer (type)                 Output Shape              Param #   \n",
      "=================================================================\n",
      "dense_2 (Dense)              (None, 1024)              103424    \n",
      "_________________________________________________________________\n",
      "dense_3 (Dense)              (None, 6272)              6428800   \n",
      "_________________________________________________________________\n",
      "reshape (Reshape)            (None, 7, 7, 128)         0         \n",
      "_________________________________________________________________\n",
      "conv2d_transpose (Conv2DTran (None, 14, 14, 128)       409728    \n",
      "_________________________________________________________________\n",
      "batch_normalization_2 (Batch (None, 14, 14, 128)       512       \n",
      "_________________________________________________________________\n",
      "leaky_re_lu_2 (LeakyReLU)    (None, 14, 14, 128)       0         \n",
      "_________________________________________________________________\n",
      "conv2d_transpose_1 (Conv2DTr (None, 28, 28, 1)         3201      \n",
      "=================================================================\n",
      "Total params: 6,945,665\n",
      "Trainable params: 6,945,409\n",
      "Non-trainable params: 256\n",
      "_________________________________________________________________\n"
     ]
    }
   ],
   "source": [
    "generator = build_generator((latent_dim,))\n",
    "generator.summary()"
   ]
  },
  {
   "cell_type": "code",
   "execution_count": null,
   "metadata": {},
   "outputs": [],
   "source": [
    "discriminator = tf.keras.Sequential([\n",
    "  tf.keras.layers.Conv2D(64, (5, 5), strides=(2, 2), padding='same', \n",
    "                                     input_shape=[28, 28, 1]),\n",
    "  tf.keras.layers.LeakyReLU(),\n",
    "  tf.keras.layers.Dropout(0.3),\n",
    "      \n",
    "  tf.keras.layers.Conv2D(128, (5, 5), strides=(2, 2), padding='same'),\n",
    "  tf.keras.layers.LeakyReLU(),\n",
    "  tf.keras.layers.Dropout(0.3),\n",
    "       \n",
    "  tf.keras.layers.Flatten(),\n",
    "  tf.keras.layers.Dense(1, activation='sigmoid')\n",
    "], name='discriminator')\n",
    "\n",
    "generator = tf.keras.Sequential([\n",
    "  tf.keras.layers.Dense(7 * 7 * 256, use_bias=False, input_shape=(100,)),\n",
    "  tf.keras.layers.BatchNormalization(),\n",
    "  tf.keras.layers.LeakyReLU(),\n",
    "\n",
    "  tf.keras.layers.Reshape((7, 7, 256)),\n",
    "\n",
    "  tf.keras.layers.Conv2DTranspose(128, (5, 5), strides=(1, 1), padding='same', use_bias=False),\n",
    "  tf.keras.layers.BatchNormalization(),\n",
    "  tf.keras.layers.LeakyReLU(),\n",
    "\n",
    "  tf.keras.layers.Conv2DTranspose(64, (5, 5), strides=(2, 2), padding='same', use_bias=False),\n",
    "  tf.keras.layers.BatchNormalization(),\n",
    "  tf.keras.layers.LeakyReLU(),\n",
    "\n",
    "  tf.keras.layers.Conv2DTranspose(1, (5, 5), strides=(2, 2), padding='same', use_bias=False, activation='sigmoid')\n",
    "], name='generator')"
   ]
  },
  {
   "cell_type": "code",
   "execution_count": null,
   "metadata": {},
   "outputs": [],
   "source": [
    "def AdversarialLoss(discriminator):\n",
    "    def model_loss(y_true, y_pred):\n",
    "        \"\"\"\n",
    "            y_true: real image\n",
    "            y_pred: image generated by autoencoder\n",
    "        \"\"\"\n",
    "        disc_fake = discriminator(y_pred)\n",
    "        adversarial_loss = -tf.log(disc_fake + 1e-5)\n",
    "        return adversarial_loss\n",
    "\n",
    "    return model_loss"
   ]
  },
  {
   "cell_type": "code",
   "execution_count": null,
   "metadata": {},
   "outputs": [],
   "source": [
    "# Compile models\n",
    "discriminator.compile(loss='binary_crossentropy',\n",
    "    optimizer=tf.train.AdamOptimizer(learning_rate),\n",
    "    metrics=['accuracy'])\n",
    "\n",
    "generator.compile(loss=AdversarialLoss(discriminator), optimizer=tf.train.AdamOptimizer(learning_rate))"
   ]
  },
  {
   "cell_type": "code",
   "execution_count": null,
   "metadata": {},
   "outputs": [],
   "source": [
    "data_to_plot = np.random.normal(0, 1, (plot_data, latent_dim))"
   ]
  },
  {
   "cell_type": "code",
   "execution_count": null,
   "metadata": {},
   "outputs": [],
   "source": [
    "summaries_dir = \"summaries/gan_mnist\"\n",
    "tf.gfile.DeleteRecursively(summaries_dir) if tf.gfile.Exists(summaries_dir) else None\n",
    "tensorboard_callback = tf.keras.callbacks.TensorBoard(log_dir=summaries_dir)\n",
    "callbacks = [\n",
    "    tensorboard_callback, \n",
    "    GanSummary2(tensorboard_callback,data_to_plot,discriminator, update_freq=1)\n",
    "]"
   ]
  },
  {
   "cell_type": "code",
   "execution_count": null,
   "metadata": {},
   "outputs": [],
   "source": [
    "initial_epoch=0\n",
    "steps_per_epoch = data_length//batch_size"
   ]
  },
  {
   "cell_type": "code",
   "execution_count": null,
   "metadata": {},
   "outputs": [],
   "source": [
    "# callbacks\n",
    "callbacks = Callbacks(callbacks)\n",
    "\n",
    "callbacks.set_model(generator)\n",
    "callbacks.set_params(\n",
    "    {\n",
    "        \"batch_size\": batch_size,\n",
    "        \"epochs\": epochs,\n",
    "        \"steps\": steps_per_epoch,\n",
    "        \"samples\": None,\n",
    "        \"verbose\": 1,\n",
    "        \"do_validation\": False,\n",
    "        \"metrics\": generator.metrics_names,\n",
    "    }\n",
    ")\n",
    "callbacks.on_train_begin()\n",
    "\n",
    "# Adversarial ground truths\n",
    "valid = np.ones((batch_size, 1))\n",
    "fake = np.zeros((batch_size, 1))"
   ]
  },
  {
   "cell_type": "code",
   "execution_count": null,
   "metadata": {},
   "outputs": [],
   "source": [
    "initial_step = initial_epoch * steps_per_epoch\n",
    "final_step = initial_step + epochs * steps_per_epoch\n",
    "\n",
    "step_partitions = range(initial_step, final_step)\n",
    "step_partitions = cz.partition_all(steps_per_epoch, step_partitions)"
   ]
  },
  {
   "cell_type": "code",
   "execution_count": null,
   "metadata": {},
   "outputs": [
    {
     "data": {
      "application/vnd.jupyter.widget-view+json": {
       "model_id": "42c071672e0f4264bb645ae9b82ebbc6",
       "version_major": 2,
       "version_minor": 0
      },
      "text/plain": [
       "HBox(children=(IntProgress(value=0, description='Epoch 0/150', max=150, style=ProgressStyle(description_width=…"
      ]
     },
     "metadata": {},
     "output_type": "display_data"
    },
    {
     "data": {
      "application/vnd.jupyter.widget-view+json": {
       "model_id": "07d012ae620c4ffbb926afc2d54c5c04",
       "version_major": 2,
       "version_minor": 0
      },
      "text/plain": [
       "HBox(children=(IntProgress(value=0, max=1281), HTML(value='')))"
      ]
     },
     "metadata": {},
     "output_type": "display_data"
    },
    {
     "name": "stdout",
     "output_type": "stream",
     "text": [
      "\r"
     ]
    },
    {
     "data": {
      "application/vnd.jupyter.widget-view+json": {
       "model_id": "b3d37cdf6b1c40c8a331b3805845d10f",
       "version_major": 2,
       "version_minor": 0
      },
      "text/plain": [
       "HBox(children=(IntProgress(value=0, max=1281), HTML(value='')))"
      ]
     },
     "metadata": {},
     "output_type": "display_data"
    }
   ],
   "source": [
    "# Training loop\n",
    "epoch_bar = tqdm(total=epochs, desc=\"Epoch 0/{}\".format(epochs)) # Initialis\n",
    "\n",
    "for epoch_index, epoch_steps in enumerate(step_partitions):\n",
    "    \n",
    "    batch_bar = tqdm(total=steps_per_epoch) # Initialis\n",
    "    epoch = initial_epoch + epoch_index\n",
    "\n",
    "    logs = {}\n",
    "    callbacks.on_epoch_begin(epoch, logs=logs)\n",
    "\n",
    "    for batch_index, step in enumerate(epoch_steps):\n",
    "        # batch start\n",
    "        callbacks.on_batch_begin(batch_index, logs=logs)\n",
    "        \n",
    "        train_batch = x_train[batch_index*batch_size:(batch_index+1)*batch_size]\n",
    "        train_batch = train_batch.reshape(-1,28,28,1)\n",
    "        \n",
    "        noise = np.random.normal(0, 1, (batch_size, latent_dim)).astype(np.float32)\n",
    "        ########### train generator #########\n",
    "        metric_values = generator.train_on_batch(\n",
    "            x=noise,\n",
    "            y=valid,\n",
    "        )\n",
    "        metrics_names = generator.metrics_names\n",
    "        metric_values = [metric_values] if not isinstance(metric_values,(list,tuple)) else metric_values\n",
    "        logs.update(dict(zip(metrics_names, metric_values)))\n",
    "        gen_loss = metric_values[0]\n",
    "        #print(\"Generator: \", metrics_names, metric_values)\n",
    "        #generator.reset_states()\n",
    "\n",
    "        generated_batch = generator.predict(noise)\n",
    "        #print(train_batch.shape, generated_batch.shape, fake.shape)\n",
    "        \n",
    "        images = np.concatenate([train_batch, generated_batch], axis=0)\n",
    "        labels = np.concatenate([valid, fake], axis=0)\n",
    "        #print(labels.shape, images.shape)\n",
    "        \n",
    "        ###### train discriminator #######\n",
    "        metric_values = discriminator.train_on_batch(\n",
    "            x=images, y=labels\n",
    "        )\n",
    "        metrics_names = [\n",
    "            \"discriminator_{}\".format(name) for name in discriminator.metrics_names\n",
    "        ]\n",
    "        #print(\"Discriminator: \", metrics_names, metric_values)\n",
    "        logs.update(dict(zip(metrics_names, metric_values)))\n",
    "        disc_loss = metric_values[0]\n",
    "        #discriminator.reset_states()\n",
    "        \n",
    "        # batch end\n",
    "        callbacks.on_batch_end(batch_index, logs=logs)\n",
    "  \n",
    "        batch_bar.update(1)\n",
    "        desc = \"gen_loss {:.3f} disc_loss {:.3f}\".format(gen_loss, disc_loss)\n",
    "        batch_bar.set_description(desc=desc)\n",
    "        \n",
    "    callbacks.on_epoch_end(epoch, logs=logs)\n",
    "    #generator.reset_metrics()\n",
    "    #discriminator.reset_metrics()\n",
    "\n",
    "    epoch_bar.update(1)\n",
    "    desc = \"Epoch {}/{}\".format(epoch_index+1,epochs)\n",
    "    epoch_bar.set_description(desc=desc)\n",
    "    batch_bar.clear()\n",
    "\n",
    "callbacks.on_train_end(logs=logs)"
   ]
  }
 ],
 "metadata": {
  "kernelspec": {
   "display_name": "Python 3",
   "language": "python",
   "name": "python3"
  },
  "language_info": {
   "codemirror_mode": {
    "name": "ipython",
    "version": 3
   },
   "file_extension": ".py",
   "mimetype": "text/x-python",
   "name": "python",
   "nbconvert_exporter": "python",
   "pygments_lexer": "ipython3",
   "version": "3.5.2"
  }
 },
 "nbformat": 4,
 "nbformat_minor": 2
}
